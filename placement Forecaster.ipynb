{
 "cells": [
  {
   "cell_type": "markdown",
   "id": "43816714-6ba5-41a7-a657-bc81e68011dd",
   "metadata": {},
   "source": [
    "Importing Libraries"
   ]
  },
  {
   "cell_type": "code",
   "execution_count": 10,
   "id": "87264422-a984-49ba-a731-fd82e7fd85e0",
   "metadata": {},
   "outputs": [],
   "source": [
    "import numpy as np\n",
    "import pandas as pd\n",
    "from sklearn.ensemble import RandomForestRegressor\n",
    "from sklearn.preprocessing import LabelEncoder, StandardScaler\n",
    "from sklearn.model_selection import train_test_split, GridSearchCV\n",
    "from sklearn.metrics import r2_score, mean_squared_error, mean_absolute_error\n",
    "from sklearn.pipeline import Pipeline\n",
    "from sklearn.utils import resample\n",
    "import joblib\n",
    "import warnings\n",
    "\n",
    "warnings.filterwarnings('ignore')"
   ]
  },
  {
   "cell_type": "markdown",
   "id": "64f66ca3-e667-4ec5-9486-ee4011b263b2",
   "metadata": {},
   "source": [
    "Dataset Reading"
   ]
  },
  {
   "cell_type": "code",
   "execution_count": 11,
   "id": "e8c8b588-975e-45e1-a8ae-95327fdf0034",
   "metadata": {},
   "outputs": [
    {
     "name": "stdout",
     "output_type": "stream",
     "text": [
      "Data read is done Succesfully....\n"
     ]
    }
   ],
   "source": [
    "try:\n",
    "    data = pd.read_csv('D:\\WEB\\Student\\students.xls')\n",
    "    print(\"Data read is done Succesfully....\")\n",
    "except FileNotFoundError:\n",
    "    print(\"Check the dataset once....\") "
   ]
  },
  {
   "cell_type": "code",
   "execution_count": 12,
   "id": "aecc2684-e513-4f4a-bb55-551e1f2e3329",
   "metadata": {},
   "outputs": [
    {
     "data": {
      "text/html": [
       "<div>\n",
       "<style scoped>\n",
       "    .dataframe tbody tr th:only-of-type {\n",
       "        vertical-align: middle;\n",
       "    }\n",
       "\n",
       "    .dataframe tbody tr th {\n",
       "        vertical-align: top;\n",
       "    }\n",
       "\n",
       "    .dataframe thead th {\n",
       "        text-align: right;\n",
       "    }\n",
       "</style>\n",
       "<table border=\"1\" class=\"dataframe\">\n",
       "  <thead>\n",
       "    <tr style=\"text-align: right;\">\n",
       "      <th></th>\n",
       "      <th>college_tier</th>\n",
       "      <th>location</th>\n",
       "      <th>domain</th>\n",
       "      <th>gpa</th>\n",
       "      <th>problem_solving_skill</th>\n",
       "      <th>leetcode_score</th>\n",
       "      <th>programming_skill</th>\n",
       "      <th>technical_skills</th>\n",
       "      <th>project_count</th>\n",
       "      <th>internship_months</th>\n",
       "      <th>current_company_tier</th>\n",
       "      <th>current_companies</th>\n",
       "      <th>current_salary_lpa</th>\n",
       "      <th>expected_company_tier</th>\n",
       "      <th>expected_companies</th>\n",
       "      <th>expected_salary_lpa</th>\n",
       "      <th>extra_hours_needed_daily</th>\n",
       "    </tr>\n",
       "  </thead>\n",
       "  <tbody>\n",
       "    <tr>\n",
       "      <th>0</th>\n",
       "      <td>Tier3</td>\n",
       "      <td>Hyderabad</td>\n",
       "      <td>Full Stack Development</td>\n",
       "      <td>7.77</td>\n",
       "      <td>7</td>\n",
       "      <td>144</td>\n",
       "      <td>6</td>\n",
       "      <td>AWS, SQL, Python, Node.js</td>\n",
       "      <td>2</td>\n",
       "      <td>6</td>\n",
       "      <td>ServiceCompanies</td>\n",
       "      <td>HCL, TCS, Infosys</td>\n",
       "      <td>6.28</td>\n",
       "      <td>ServiceCompanies</td>\n",
       "      <td>Accenture, Cognizant, HCL</td>\n",
       "      <td>9.76</td>\n",
       "      <td>2.9</td>\n",
       "    </tr>\n",
       "    <tr>\n",
       "      <th>1</th>\n",
       "      <td>Tier1_Private</td>\n",
       "      <td>Bangalore</td>\n",
       "      <td>UI/UX Design</td>\n",
       "      <td>6.29</td>\n",
       "      <td>3</td>\n",
       "      <td>100</td>\n",
       "      <td>4</td>\n",
       "      <td>Adobe XD, Figma, Sketch</td>\n",
       "      <td>0</td>\n",
       "      <td>3</td>\n",
       "      <td>ServiceCompanies</td>\n",
       "      <td>HCL, Accenture</td>\n",
       "      <td>8.05</td>\n",
       "      <td>ServiceCompanies</td>\n",
       "      <td>TCS, Cognizant, HCL</td>\n",
       "      <td>11.19</td>\n",
       "      <td>4.8</td>\n",
       "    </tr>\n",
       "    <tr>\n",
       "      <th>2</th>\n",
       "      <td>Tier3</td>\n",
       "      <td>Bangalore</td>\n",
       "      <td>Web Development</td>\n",
       "      <td>6.00</td>\n",
       "      <td>5</td>\n",
       "      <td>131</td>\n",
       "      <td>5</td>\n",
       "      <td>MongoDB, HTML/CSS, React, Node.js</td>\n",
       "      <td>2</td>\n",
       "      <td>4</td>\n",
       "      <td>ServiceCompanies</td>\n",
       "      <td>Accenture, Infosys</td>\n",
       "      <td>6.40</td>\n",
       "      <td>ServiceCompanies</td>\n",
       "      <td>HCL, Infosys, Cognizant</td>\n",
       "      <td>9.48</td>\n",
       "      <td>3.8</td>\n",
       "    </tr>\n",
       "    <tr>\n",
       "      <th>3</th>\n",
       "      <td>Tier2</td>\n",
       "      <td>Other</td>\n",
       "      <td>Data Science</td>\n",
       "      <td>6.00</td>\n",
       "      <td>6</td>\n",
       "      <td>122</td>\n",
       "      <td>2</td>\n",
       "      <td>Python, SQL, Tableau</td>\n",
       "      <td>2</td>\n",
       "      <td>0</td>\n",
       "      <td>ServiceCompanies</td>\n",
       "      <td>HCL, TCS, Accenture</td>\n",
       "      <td>8.68</td>\n",
       "      <td>ServiceCompanies</td>\n",
       "      <td>TCS, Cognizant</td>\n",
       "      <td>13.04</td>\n",
       "      <td>6.3</td>\n",
       "    </tr>\n",
       "    <tr>\n",
       "      <th>4</th>\n",
       "      <td>Tier3</td>\n",
       "      <td>Bangalore</td>\n",
       "      <td>Data Science</td>\n",
       "      <td>6.47</td>\n",
       "      <td>3</td>\n",
       "      <td>100</td>\n",
       "      <td>2</td>\n",
       "      <td>Machine Learning, Python, Tableau</td>\n",
       "      <td>0</td>\n",
       "      <td>4</td>\n",
       "      <td>ServiceCompanies</td>\n",
       "      <td>HCL, Wipro</td>\n",
       "      <td>6.43</td>\n",
       "      <td>ServiceCompanies</td>\n",
       "      <td>Cognizant, Wipro</td>\n",
       "      <td>8.94</td>\n",
       "      <td>6.4</td>\n",
       "    </tr>\n",
       "  </tbody>\n",
       "</table>\n",
       "</div>"
      ],
      "text/plain": [
       "    college_tier   location                  domain   gpa  \\\n",
       "0          Tier3  Hyderabad  Full Stack Development  7.77   \n",
       "1  Tier1_Private  Bangalore            UI/UX Design  6.29   \n",
       "2          Tier3  Bangalore         Web Development  6.00   \n",
       "3          Tier2      Other            Data Science  6.00   \n",
       "4          Tier3  Bangalore            Data Science  6.47   \n",
       "\n",
       "   problem_solving_skill  leetcode_score  programming_skill  \\\n",
       "0                      7             144                  6   \n",
       "1                      3             100                  4   \n",
       "2                      5             131                  5   \n",
       "3                      6             122                  2   \n",
       "4                      3             100                  2   \n",
       "\n",
       "                    technical_skills  project_count  internship_months  \\\n",
       "0          AWS, SQL, Python, Node.js              2                  6   \n",
       "1            Adobe XD, Figma, Sketch              0                  3   \n",
       "2  MongoDB, HTML/CSS, React, Node.js              2                  4   \n",
       "3               Python, SQL, Tableau              2                  0   \n",
       "4  Machine Learning, Python, Tableau              0                  4   \n",
       "\n",
       "  current_company_tier    current_companies  current_salary_lpa  \\\n",
       "0     ServiceCompanies    HCL, TCS, Infosys                6.28   \n",
       "1     ServiceCompanies       HCL, Accenture                8.05   \n",
       "2     ServiceCompanies   Accenture, Infosys                6.40   \n",
       "3     ServiceCompanies  HCL, TCS, Accenture                8.68   \n",
       "4     ServiceCompanies           HCL, Wipro                6.43   \n",
       "\n",
       "  expected_company_tier         expected_companies  expected_salary_lpa  \\\n",
       "0      ServiceCompanies  Accenture, Cognizant, HCL                 9.76   \n",
       "1      ServiceCompanies        TCS, Cognizant, HCL                11.19   \n",
       "2      ServiceCompanies    HCL, Infosys, Cognizant                 9.48   \n",
       "3      ServiceCompanies             TCS, Cognizant                13.04   \n",
       "4      ServiceCompanies           Cognizant, Wipro                 8.94   \n",
       "\n",
       "   extra_hours_needed_daily  \n",
       "0                       2.9  \n",
       "1                       4.8  \n",
       "2                       3.8  \n",
       "3                       6.3  \n",
       "4                       6.4  "
      ]
     },
     "execution_count": 12,
     "metadata": {},
     "output_type": "execute_result"
    }
   ],
   "source": [
    "data.head()"
   ]
  },
  {
   "cell_type": "code",
   "execution_count": 13,
   "id": "08e6cc93-04d2-4c63-8433-a86e9ded5959",
   "metadata": {},
   "outputs": [
    {
     "data": {
      "text/plain": [
       "college_tier                0\n",
       "location                    0\n",
       "domain                      0\n",
       "gpa                         0\n",
       "problem_solving_skill       0\n",
       "leetcode_score              0\n",
       "programming_skill           0\n",
       "technical_skills            0\n",
       "project_count               0\n",
       "internship_months           0\n",
       "current_company_tier        0\n",
       "current_companies           0\n",
       "current_salary_lpa          0\n",
       "expected_company_tier       0\n",
       "expected_companies          0\n",
       "expected_salary_lpa         0\n",
       "extra_hours_needed_daily    0\n",
       "dtype: int64"
      ]
     },
     "execution_count": 13,
     "metadata": {},
     "output_type": "execute_result"
    }
   ],
   "source": [
    "data.isna().sum()"
   ]
  },
  {
   "cell_type": "markdown",
   "id": "c825aa26-39fe-45e2-9800-9c7f906d2ae6",
   "metadata": {},
   "source": [
    "Data Preprocessing"
   ]
  },
  {
   "cell_type": "code",
   "execution_count": 14,
   "id": "227fe18c-fc30-49d8-b574-52b59e36902b",
   "metadata": {},
   "outputs": [],
   "source": [
    "def preprocess(data, label_encoder):\n",
    "    data = data.copy()\n",
    "    data['college_tier_encoded'] = label_encoder.fit_transform(data['college_tier'])\n",
    "    numerical_cols = ['gpa', 'problem_solving_skill', 'programming_skill',\n",
    "                      'leetcode_score', 'project_count', 'internship_months']\n",
    "    for cols in numerical_cols:\n",
    "        Q1 = data[cols].quantile(0.25)\n",
    "        Q3 = data[cols].quantile(0.75)\n",
    "        IQR = Q3 - Q1\n",
    "        lower_bound = Q1 - 1.5 * IQR\n",
    "        upper_bound = Q3 + 1.5 * IQR\n",
    "        data[cols] = np.clip(data[cols], lower_bound, upper_bound)\n",
    "\n",
    "    data['skill_score'] = (data['problem_solving_skill'] * 0.4 +\n",
    "                         data['programming_skill'] * 0.3 +\n",
    "                         data['leetcode_score'] / 25 * 0.3)\n",
    "\n",
    "    return data, label_encoder"
   ]
  },
  {
   "cell_type": "markdown",
   "id": "8c251ba2-0f39-4b7a-9c51-2ca04e261ee6",
   "metadata": {},
   "source": [
    "The Function mitigate_bias is used to remove the bias of College tiers"
   ]
  },
  {
   "cell_type": "code",
   "execution_count": 15,
   "id": "287a13b6-2405-49a2-a97c-f5c338db78f0",
   "metadata": {},
   "outputs": [],
   "source": [
    "def mitigate_bias(data):\n",
    "    new_data = []\n",
    "    for tier in data['college_tier'].unique():\n",
    "        df = data[data['college_tier'] == tier]\n",
    "        if len(df) > 100:\n",
    "            new_data.append(resample(df, replace=True, n_samples=150, random_state=42))\n",
    "        else:\n",
    "            new_data.append(df)\n",
    "    return pd.concat(new_data, ignore_index=True)"
   ]
  },
  {
   "cell_type": "markdown",
   "id": "9862d3cc-5204-459a-9571-0b838fde108b",
   "metadata": {},
   "source": [
    "Dataset Classification into train and test datasets"
   ]
  },
  {
   "cell_type": "code",
   "execution_count": 16,
   "id": "ceeb52a9-4b2d-40a1-82d5-3a999c27d00e",
   "metadata": {},
   "outputs": [],
   "source": [
    "label_encoder = LabelEncoder()\n",
    "scaler = StandardScaler()\n",
    "\n",
    "data_preprocess, label_encoder = preprocess(data, label_encoder)\n",
    "data_removal_bias = mitigate_bias(data_preprocess)\n",
    "\n",
    "feature_columns = ['gpa', 'college_tier_encoded', 'problem_solving_skill',\n",
    "                       'programming_skill', 'leetcode_score', 'project_count',\n",
    "                       'internship_months', 'skill_score']\n",
    "\n",
    "x = data_removal_bias[feature_columns]\n",
    "curr_y = data_removal_bias['current_salary_lpa']\n",
    "exp_y = data_removal_bias['expected_salary_lpa']\n",
    "\n",
    "x_scaled = scaler.fit_transform(x)\n",
    "\n",
    "x_train, x_test, y_curr_train, y_curr_test = train_test_split(\n",
    "    x_scaled, curr_y, test_size=0.2, random_state = 42, stratify = data_removal_bias['college_tier_encoded']\n",
    ")\n",
    "\n",
    "_, _, y_exp_train, y_exp_test = train_test_split(\n",
    "    x_scaled, exp_y, test_size=0.2, random_state = 42, stratify = data_removal_bias['college_tier_encoded']\n",
    ")\n"
   ]
  },
  {
   "cell_type": "markdown",
   "id": "a6645229-9ba2-415e-af63-e3742e496302",
   "metadata": {},
   "source": [
    "Random Forest Model Training"
   ]
  },
  {
   "cell_type": "code",
   "execution_count": 17,
   "id": "68e5a17a-42af-465d-acba-09fcb541915e",
   "metadata": {},
   "outputs": [],
   "source": [
    "def train_model(x, y, model_name):\n",
    "    param = {\n",
    "        'n_estimators': [100, 200, 300],\n",
    "        'max_depth': [15, 20, 25, None],\n",
    "        'min_samples_split': [2, 5, 10],\n",
    "        'min_samples_leaf': [1, 2, 4],\n",
    "        'max_features': ['sqrt', 'log2'],\n",
    "        'bootstrap': [True, False]\n",
    "    }\n",
    "\n",
    "    rf = RandomForestRegressor(random_state = 42)\n",
    "    grid_search = GridSearchCV(rf, param, cv=5, scoring='r2', verbose=0)\n",
    "    print(f\"Fitting Grid Search for the model - {model_name}\")\n",
    "    grid_search.fit(x,y)\n",
    "    print(\"===== Completed ======\")\n",
    "    return grid_search.best_estimator_"
   ]
  },
  {
   "cell_type": "code",
   "execution_count": 18,
   "id": "8af5ba27-7a01-4e17-a96d-238e5f52908a",
   "metadata": {},
   "outputs": [
    {
     "name": "stdout",
     "output_type": "stream",
     "text": [
      "Fitting Grid Search for the model - Current Model\n",
      "===== Completed ======\n",
      "Fitting Grid Search for the model - Expected Model\n",
      "===== Completed ======\n"
     ]
    }
   ],
   "source": [
    "curr_model = train_model(x_train, y_curr_train, \"Current Model\")\n",
    "exp_model = train_model(x_train, y_exp_train, \"Expected Model\")"
   ]
  },
  {
   "cell_type": "markdown",
   "id": "9c364e68-bbc2-4268-a5b0-ccecb8be4223",
   "metadata": {},
   "source": [
    "Metrics for the Current Model and Expected Model"
   ]
  },
  {
   "cell_type": "code",
   "execution_count": 19,
   "id": "826ac43f-b04b-44ac-91cb-08ae42ac3643",
   "metadata": {},
   "outputs": [],
   "source": [
    "def checkScore(model, y_test, name, x_test):\n",
    "    y_pred = model.predict(x_test)\n",
    "    print(f\"\\n=====Scores for the model - {name} ========\")\n",
    "    r2 = r2_score(y_test, y_pred)\n",
    "    mae = mean_absolute_error(y_test, y_pred)\n",
    "    rmse = np.sqrt(mean_squared_error(y_test, y_pred))\n",
    "    print(f\"R-square: {r2}\")\n",
    "    print(f\"Mean absolute error: {mae}\")\n",
    "    print(f\"Root mean square error: {rmse}\")"
   ]
  },
  {
   "cell_type": "code",
   "execution_count": 20,
   "id": "45a1c601-c24e-489f-99c1-4c0023f07664",
   "metadata": {},
   "outputs": [
    {
     "name": "stdout",
     "output_type": "stream",
     "text": [
      "\n",
      "=====Scores for the model - Current Model ========\n",
      "R-square: 0.711725080973312\n",
      "Mean absolute error: 1.7239632835764556\n",
      "Root mean square error: 2.594435908982028\n",
      "\n",
      "=====Scores for the model - Expected Model ========\n",
      "R-square: 0.78563056743326\n",
      "Mean absolute error: 2.2813384777814503\n",
      "Root mean square error: 3.77363016810244\n"
     ]
    }
   ],
   "source": [
    "for model, y_test, name in [(curr_model, y_curr_test, \"Current Model\"),\n",
    "    (exp_model, y_exp_test, \"Expected Model\")]:\n",
    "    checkScore(model, y_test, name, x_test)"
   ]
  },
  {
   "cell_type": "markdown",
   "id": "ec4ab19b-c5d7-4683-acde-b3e317592fae",
   "metadata": {},
   "source": [
    "Prediction Based on the skills"
   ]
  },
  {
   "cell_type": "code",
   "execution_count": 21,
   "id": "921d8a9e-22b5-4b38-8547-c14579e918d6",
   "metadata": {},
   "outputs": [],
   "source": [
    "def predict_companies(data):\n",
    "    data['skill_score'] = (\n",
    "        data['problem_solving_skill'] * 0.4 + data['programming_skill'] * 0.3 + data['leetcode_score'] / 25 * 0.3\n",
    "    )\n",
    "    total_score = (\n",
    "        data['skill_score'] * 0.5 + data['problem_solving_skill'] * 0.3 + data['programming_skill'] * 0.2 + \n",
    "        data['gpa'] * 0.1\n",
    "    )\n",
    "\n",
    "    if total_score > 8.5:\n",
    "        curr_companies = [\"Google\", \"Microsoft\", \"Amazon\", \"Apple\", \"Meta\", \"Netflix\"]\n",
    "        exp_companies = [\"Google\", \"Microsoft\", \"Amazon\", \"Apple\", \"Meta\", \"Netflix\"]\n",
    "    elif total_score > 7.5:\n",
    "        curr_companies = [\"Adobe\", \"Salesforce\", \"Atlassian\", \"Nvidia\", \"Uber\", \"LinkedIn\"]\n",
    "        exp_companies = [\"Google\", \"Microsoft\", \"Amazon\", \"Apple\", \"Meta\", \"Netflix\"]\n",
    "    elif total_score > 6.5:\n",
    "        curr_companies = [\"Zoho\", \"Freshworks\", \"Razorpay\", \"Postman\", \"Swiggy\", \"Zomato\"]\n",
    "        exp_companies = [\"Adobe\", \"Salesforce\", \"Atlassian\", \"Nvidia\", \"Uber\", \"LinkedIn\"]\n",
    "    else:\n",
    "        curr_companies = exp_companies = [\"Infosys\", \"TCS\", \"Wipro\", \"HCL\", \"Accenture\", \"Cognizant\"]\n",
    "\n",
    "    curr_companies = np.random.choice(curr_companies, 3, replace = False)\n",
    "    exp_companies = np.random.choice(exp_companies, 3, replace = False)\n",
    "\n",
    "    return ' ,'.join(curr_companies), ' ,'.join(exp_companies)"
   ]
  },
  {
   "cell_type": "code",
   "execution_count": 22,
   "id": "329d3c37-d5c4-447d-acc8-65a92765b760",
   "metadata": {},
   "outputs": [],
   "source": [
    "def extraTime(data, curr_sal, exp_sal):\n",
    "    skill_gap = max(0, (8 - data['programming_skill']) * 10 +\n",
    "                       (180 - data['leetcode_score']) * 0.1)\n",
    "    salary_gap = max(0, exp_sal - curr_sal)\n",
    "\n",
    "    extra_hours = round(1 + (skill_gap/100 * 6) + (salary_gap/10 * 0.5), 1)\n",
    "    return min(8, max(1, extra_hours))"
   ]
  },
  {
   "cell_type": "code",
   "execution_count": 23,
   "id": "310e4795-071c-4e3d-adc9-6e75b292f8c8",
   "metadata": {},
   "outputs": [],
   "source": [
    "def report(data, curr_model, exp_model, label_encoder, scaler):\n",
    "    new_data = pd.DataFrame([data])\n",
    "    new_data['college_tier_encoded'] = label_encoder.transform(new_data['college_tier'])[0]\n",
    "    \n",
    "    \n",
    "    feature_columns = ['gpa', 'college_tier_encoded', 'problem_solving_skill',\n",
    "                       'programming_skill', 'leetcode_score', 'project_count',\n",
    "                       'internship_months', 'skill_score']\n",
    "\n",
    "    new_data['skill_score'] = (\n",
    "        new_data['problem_solving_skill'] * 0.4 + new_data['programming_skill'] * 0.3 + new_data['leetcode_score'] / 25 * 0.3\n",
    "    )\n",
    "\n",
    "    x_input = new_data[feature_columns]\n",
    "    x_scaled = scaler.transform(x_input)\n",
    "\n",
    "    curr_sal = curr_model.predict(x_scaled)[0]\n",
    "    exp_sal = exp_model.predict(x_scaled)[0]\n",
    "\n",
    "    curr_salary = max(5, min(50, curr_sal))\n",
    "    exp_salary = max(curr_sal, min(60, exp_sal))\n",
    "\n",
    "    curr_companies, exp_companies = predict_companies(data)\n",
    "    extra_time = extraTime(data, curr_salary, exp_salary)\n",
    "    return {\n",
    "        'current_Salary' : round(curr_salary,2),\n",
    "        'expected_Salary' : round(exp_salary,2),\n",
    "        'current_Companies' : curr_companies,\n",
    "        'expected_Companies' : exp_companies,\n",
    "        'Extra_Time_Required' : extra_time\n",
    "    }"
   ]
  },
  {
   "cell_type": "markdown",
   "id": "b2fdf52c-07d1-4a3c-8053-4413753da07d",
   "metadata": {},
   "source": [
    "New student Data for the prediction"
   ]
  },
  {
   "cell_type": "code",
   "execution_count": 24,
   "id": "e73ac59b-ca58-4b5f-b029-fb2aec25c994",
   "metadata": {},
   "outputs": [
    {
     "name": "stdout",
     "output_type": "stream",
     "text": [
      "========== Report for the input features =========\n",
      "\n",
      "- current_Salary : 16.76\n",
      "- expected_Salary : 25.01\n",
      "- current_Companies : LinkedIn ,Salesforce ,Uber\n",
      "- expected_Companies : Apple ,Netflix ,Google\n",
      "- Extra_Time_Required : 2.0\n",
      "\n",
      " ======== Prediction for the student is Done Successfully =========\n"
     ]
    }
   ],
   "source": [
    "input_data = {\n",
    "    'gpa': 8.8,\n",
    "    'college_tier': 'IIT',\n",
    "    'problem_solving_skill': 8,\n",
    "    'programming_skill': 7,\n",
    "    'leetcode_score': 190,\n",
    "    'project_count': 4,\n",
    "    'internship_months': 6\n",
    "}\n",
    "\n",
    "predicted_output = report(\n",
    "    input_data,\n",
    "    curr_model,\n",
    "    exp_model,\n",
    "    label_encoder,\n",
    "    scaler\n",
    ")\n",
    "\n",
    "print(\"========== Report for the input features =========\\n\")\n",
    "for key, value in predicted_output.items():\n",
    "    print(f\"- {key} : {value}\")\n",
    "\n",
    "print(\"\\n ======== Prediction for the student is Done Successfully =========\")"
   ]
  },
  {
   "cell_type": "markdown",
   "id": "f47c9a04-6065-4ada-8a56-acf5a57c3ae8",
   "metadata": {},
   "source": [
    "Dumping the fields into .pkl files"
   ]
  },
  {
   "cell_type": "code",
   "execution_count": 25,
   "id": "9e713b11-f172-4f28-b5fc-f756230d02d1",
   "metadata": {},
   "outputs": [
    {
     "data": {
      "text/plain": [
       "['Scalers.pkl']"
      ]
     },
     "execution_count": 25,
     "metadata": {},
     "output_type": "execute_result"
    }
   ],
   "source": [
    "joblib.dump(curr_model, \"Current_model.pkl\")\n",
    "joblib.dump(exp_model, \"Expected_model.pkl\")\n",
    "joblib.dump(label_encoder, \"Labels.pkl\")\n",
    "joblib.dump(scaler, \"Scalers.pkl\")"
   ]
  }
 ],
 "metadata": {
  "kernelspec": {
   "display_name": "Python 3",
   "language": "python",
   "name": "python3"
  },
  "language_info": {
   "codemirror_mode": {
    "name": "ipython",
    "version": 3
   },
   "file_extension": ".py",
   "mimetype": "text/x-python",
   "name": "python",
   "nbconvert_exporter": "python",
   "pygments_lexer": "ipython3",
   "version": "3.13.7"
  }
 },
 "nbformat": 4,
 "nbformat_minor": 5
}
